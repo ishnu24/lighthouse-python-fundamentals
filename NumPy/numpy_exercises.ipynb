{
 "cells": [
  {
   "cell_type": "markdown",
   "metadata": {},
   "source": [
    "# NumPy exercises\n",
    "\n",
    "We are going to practice NumPy skills and basic syntax.\n",
    "\n",
    "We put here also some examples that were not in the tutorial on purpose. Try to use google and offial NumPy documentation to solve these exercises."
   ]
  },
  {
   "cell_type": "markdown",
   "metadata": {},
   "source": [
    "#### 1. Import the numpy package under the name `np` (★☆☆)"
   ]
  },
  {
   "cell_type": "code",
   "execution_count": 1,
   "metadata": {},
   "outputs": [],
   "source": [
    "import numpy as np"
   ]
  },
  {
   "cell_type": "markdown",
   "metadata": {},
   "source": [
    "#### 3. Create a null vector of size 10 (★☆☆)"
   ]
  },
  {
   "cell_type": "code",
   "execution_count": 2,
   "metadata": {
    "collapsed": false,
    "jupyter": {
     "outputs_hidden": false
    }
   },
   "outputs": [
    {
     "data": {
      "text/plain": [
       "array([0., 0., 0., 0., 0., 0., 0., 0., 0., 0.])"
      ]
     },
     "execution_count": 2,
     "metadata": {},
     "output_type": "execute_result"
    }
   ],
   "source": [
    "np.zeros(10)"
   ]
  },
  {
   "cell_type": "markdown",
   "metadata": {},
   "source": [
    "#### 6.  Create a null vector of size 10 but the fifth value which is 1 (★☆☆)"
   ]
  },
  {
   "cell_type": "code",
   "execution_count": 4,
   "metadata": {
    "collapsed": false,
    "jupyter": {
     "outputs_hidden": false
    }
   },
   "outputs": [
    {
     "name": "stdout",
     "output_type": "stream",
     "text": [
      "[0. 0. 0. 0. 1. 0. 0. 0. 0. 0.]\n"
     ]
    }
   ],
   "source": [
    "a = np.zeros(10)\n",
    "a[4] = 1\n",
    "print(a)"
   ]
  },
  {
   "cell_type": "markdown",
   "metadata": {},
   "source": [
    "#### 7.  Create a vector with values ranging from 10 to 49 (★☆☆)"
   ]
  },
  {
   "cell_type": "code",
   "execution_count": 27,
   "metadata": {
    "collapsed": false,
    "jupyter": {
     "outputs_hidden": false
    }
   },
   "outputs": [
    {
     "name": "stdout",
     "output_type": "stream",
     "text": [
      "[[44 38 43 26 35 25  3  7 39]]\n"
     ]
    }
   ],
   "source": [
    "a = np.random.randint(1,50,(1,9))\n",
    "print(a)"
   ]
  },
  {
   "cell_type": "markdown",
   "metadata": {},
   "source": [
    "#### 8.  Reverse a vector (first element becomes last) (★☆☆)"
   ]
  },
  {
   "cell_type": "code",
   "execution_count": 28,
   "metadata": {
    "collapsed": false,
    "jupyter": {
     "outputs_hidden": false
    }
   },
   "outputs": [
    {
     "data": {
      "text/plain": [
       "array([[39,  7,  3, 25, 35, 26, 43, 38, 44]])"
      ]
     },
     "execution_count": 28,
     "metadata": {},
     "output_type": "execute_result"
    }
   ],
   "source": [
    "np.flip(a)\n"
   ]
  },
  {
   "cell_type": "markdown",
   "metadata": {},
   "source": [
    "#### 9.  Create a 3x3 matrix with values ranging from 0 to 8 (★☆☆)"
   ]
  },
  {
   "cell_type": "code",
   "execution_count": 30,
   "metadata": {
    "collapsed": false,
    "jupyter": {
     "outputs_hidden": false
    }
   },
   "outputs": [
    {
     "name": "stdout",
     "output_type": "stream",
     "text": [
      "[[8 5 4]\n",
      " [5 8 0]\n",
      " [1 1 8]]\n"
     ]
    }
   ],
   "source": [
    "b = np.random.randint(0,9,(3,3))\n",
    "print(b)"
   ]
  },
  {
   "cell_type": "markdown",
   "metadata": {},
   "source": [
    "#### 10. Find indices of non-zero elements from \\[1,2,0,0,4,0\\] (★☆☆)"
   ]
  },
  {
   "cell_type": "code",
   "execution_count": 38,
   "metadata": {
    "collapsed": false,
    "jupyter": {
     "outputs_hidden": false
    }
   },
   "outputs": [
    {
     "data": {
      "text/plain": [
       "(array([0, 1, 4]),)"
      ]
     },
     "execution_count": 38,
     "metadata": {},
     "output_type": "execute_result"
    }
   ],
   "source": [
    "a = np.array([1,2,0,0,4,0])\n",
    "np.where(a != 0)"
   ]
  },
  {
   "cell_type": "markdown",
   "metadata": {},
   "source": [
    "#### 12. Create a 3x3x3 array with random values (★☆☆)"
   ]
  },
  {
   "cell_type": "code",
   "execution_count": 39,
   "metadata": {},
   "outputs": [
    {
     "name": "stdout",
     "output_type": "stream",
     "text": [
      "[[[0 4 6]\n",
      "  [5 2 0]\n",
      "  [2 0 8]]\n",
      "\n",
      " [[2 6 6]\n",
      "  [6 6 5]\n",
      "  [2 1 4]]\n",
      "\n",
      " [[0 0 6]\n",
      "  [8 3 0]\n",
      "  [4 0 7]]]\n"
     ]
    }
   ],
   "source": [
    "c = np.random.randint(0,9,(3,3,3))\n",
    "print(c)"
   ]
  },
  {
   "cell_type": "markdown",
   "metadata": {},
   "source": [
    "#### 13. Create a 10x10 array with random values and find the minimum and maximum values (★☆☆)"
   ]
  },
  {
   "cell_type": "code",
   "execution_count": 50,
   "metadata": {
    "collapsed": false,
    "jupyter": {
     "outputs_hidden": false
    }
   },
   "outputs": [
    {
     "name": "stdout",
     "output_type": "stream",
     "text": [
      "[[0.96187151 0.97962483 0.56298268 0.03365727 0.56197441 0.40080897\n",
      "  0.70995045 0.53774416 0.48588774 0.19530443]\n",
      " [0.95191052 0.47820998 0.79999676 0.6210836  0.62008487 0.94009162\n",
      "  0.7352043  0.24619423 0.96850869 0.19018586]\n",
      " [0.77952891 0.36139473 0.70590565 0.9863492  0.16452346 0.80546504\n",
      "  0.96283336 0.13705512 0.19213185 0.10743403]\n",
      " [0.62464348 0.68402316 0.28597635 0.85634725 0.88910252 0.84108196\n",
      "  0.53722822 0.50142446 0.24524044 0.12540214]\n",
      " [0.06512348 0.61170122 0.14861504 0.78847219 0.96171248 0.67270489\n",
      "  0.37435031 0.06613501 0.72554047 0.7840438 ]\n",
      " [0.72996797 0.43923877 0.19356231 0.847133   0.9458029  0.5558041\n",
      "  0.72528003 0.11434661 0.11186782 0.17215316]\n",
      " [0.08333876 0.96323268 0.72394781 0.07602287 0.84414808 0.01538183\n",
      "  0.21718975 0.44199971 0.30387906 0.40491714]\n",
      " [0.08677797 0.39638852 0.54723173 0.16497695 0.05128628 0.19522006\n",
      "  0.36452025 0.68774442 0.48260838 0.88961851]\n",
      " [0.26652244 0.84912404 0.90424251 0.89670236 0.34195767 0.54368655\n",
      "  0.58586518 0.44367949 0.06656689 0.96504763]\n",
      " [0.4550507  0.77428314 0.38124006 0.34477916 0.96492295 0.93607821\n",
      "  0.87794633 0.42115874 0.71897689 0.83815676]]\n",
      "0.015381826074776672\n",
      "0.9863492011154599\n"
     ]
    }
   ],
   "source": [
    "d = np.random.rand(10,10)\n",
    "print(d)\n",
    "print(np.min(d))\n",
    "print(np.max(d))"
   ]
  },
  {
   "cell_type": "markdown",
   "metadata": {},
   "source": [
    "#### 14. Create a random vector of size 30 and find the mean value (★☆☆)"
   ]
  },
  {
   "cell_type": "code",
   "execution_count": 52,
   "metadata": {
    "collapsed": false,
    "jupyter": {
     "outputs_hidden": false
    }
   },
   "outputs": [
    {
     "name": "stdout",
     "output_type": "stream",
     "text": [
      "[0.60235114 0.98908151 0.57980835 0.86923703 0.74454167 0.47671725\n",
      " 0.62525453 0.40346621 0.57866067 0.48369881 0.53600478 0.73509325\n",
      " 0.19341375 0.7209874  0.25259909 0.32294183 0.83418831 0.43816912\n",
      " 0.13729422 0.10892662 0.13926878 0.55005888 0.26949768 0.68684319\n",
      " 0.95446777 0.5051429  0.06830719 0.70897391 0.92004168 0.9256907 ]\n"
     ]
    },
    {
     "data": {
      "text/plain": [
       "0.5453576071575849"
      ]
     },
     "execution_count": 52,
     "metadata": {},
     "output_type": "execute_result"
    }
   ],
   "source": [
    "e = np.random.rand(30)\n",
    "print(e)\n",
    "np.mean(e)"
   ]
  },
  {
   "cell_type": "markdown",
   "metadata": {},
   "source": [
    "#### 15. Create a 2d array with 1 on the border and 0 inside (★☆☆)"
   ]
  },
  {
   "cell_type": "code",
   "execution_count": 63,
   "metadata": {
    "collapsed": false,
    "jupyter": {
     "outputs_hidden": false
    }
   },
   "outputs": [
    {
     "name": "stdout",
     "output_type": "stream",
     "text": [
      "[[1. 1. 1. 1. 1. 1. 1.]\n",
      " [1. 0. 0. 0. 0. 0. 1.]\n",
      " [1. 0. 0. 0. 0. 0. 1.]\n",
      " [1. 0. 0. 0. 0. 0. 1.]\n",
      " [1. 0. 0. 0. 0. 0. 1.]\n",
      " [1. 0. 0. 0. 0. 0. 1.]\n",
      " [1. 1. 1. 1. 1. 1. 1.]]\n"
     ]
    }
   ],
   "source": [
    "a = np.ones([7,7])\n",
    "b = np.zeros([5,5])\n",
    "a[1:6,1:6] = b\n",
    "print(a)"
   ]
  },
  {
   "cell_type": "markdown",
   "metadata": {},
   "source": [
    "#### 16. How to add a border (filled with 0's) around an existing array? (★☆☆)"
   ]
  },
  {
   "cell_type": "code",
   "execution_count": 81,
   "metadata": {
    "collapsed": false,
    "jupyter": {
     "outputs_hidden": false
    }
   },
   "outputs": [
    {
     "name": "stdout",
     "output_type": "stream",
     "text": [
      "[[7 2 8]\n",
      " [6 4 2]\n",
      " [1 3 7]]\n",
      "[[0. 0. 0. 0. 0.]\n",
      " [0. 7. 2. 8. 0.]\n",
      " [0. 6. 4. 2. 0.]\n",
      " [0. 1. 3. 7. 0.]\n",
      " [0. 0. 0. 0. 0.]]\n"
     ]
    }
   ],
   "source": [
    "b = np.random.randint(0,9,(3,3))\n",
    "print(b)\n",
    "r,c = b.shape\n",
    "d = np.zeros((r+2,c+2))\n",
    "d[1:(r+1),1:(c+1)] =b\n",
    "print(d)"
   ]
  },
  {
   "cell_type": "markdown",
   "metadata": {},
   "source": [
    "#### 17. What is the result of the following expression? (★☆☆)"
   ]
  },
  {
   "cell_type": "markdown",
   "metadata": {},
   "source": [
    "```python\n",
    "0 * np.nan\n",
    "np.nan == np.nan\n",
    "np.inf > np.nan\n",
    "np.nan - np.nan\n",
    "np.nan in set([np.nan])\n",
    "0.3 == 3 * 0.1\n",
    "```"
   ]
  },
  {
   "cell_type": "code",
   "execution_count": 90,
   "metadata": {
    "collapsed": false,
    "jupyter": {
     "outputs_hidden": false
    }
   },
   "outputs": [
    {
     "data": {
      "text/plain": [
       "False"
      ]
     },
     "execution_count": 90,
     "metadata": {},
     "output_type": "execute_result"
    }
   ],
   "source": [
    "#0 * np.nan\n",
    "#np.nan == np.nan\n",
    "#np.inf > np.nan\n",
    "#np.nan - np.nan\n",
    "#np.nan in set([np.nan])\n",
    "0.3 == 3 * 0.1"
   ]
  },
  {
   "cell_type": "markdown",
   "metadata": {},
   "source": [
    "#### 18. Create a 5x5 matrix with values 1,2,3,4 just below the diagonal (★☆☆)"
   ]
  },
  {
   "cell_type": "code",
   "execution_count": 96,
   "metadata": {
    "collapsed": false,
    "jupyter": {
     "outputs_hidden": false
    }
   },
   "outputs": [
    {
     "name": "stdout",
     "output_type": "stream",
     "text": [
      "[[0. 0. 0. 0. 0.]\n",
      " [1. 0. 0. 0. 0.]\n",
      " [0. 2. 0. 0. 0.]\n",
      " [0. 0. 3. 0. 0.]\n",
      " [0. 0. 0. 4. 0.]]\n"
     ]
    }
   ],
   "source": [
    "a = np.zeros([5,5])\n",
    "b = np.array([1,2,3,4])\n",
    "a[[1,2,3,4],[0,1,2,3]] = b\n",
    "print(a)"
   ]
  },
  {
   "cell_type": "markdown",
   "metadata": {},
   "source": [
    "#### 20. Consider a (6,7,8) shape array, what is the index (x,y,z) of the 100th element?"
   ]
  },
  {
   "cell_type": "code",
   "execution_count": 102,
   "metadata": {
    "collapsed": false,
    "jupyter": {
     "outputs_hidden": false
    }
   },
   "outputs": [
    {
     "data": {
      "text/plain": [
       "(1, 5, 4)"
      ]
     },
     "execution_count": 102,
     "metadata": {},
     "output_type": "execute_result"
    }
   ],
   "source": [
    "g = np.zeros((6,7,8))\n",
    "np.unravel_index(100,(6,7,8))"
   ]
  },
  {
   "cell_type": "markdown",
   "metadata": {},
   "source": [
    "#### 22. Normalize a 5x5 random matrix (★☆☆)"
   ]
  },
  {
   "cell_type": "code",
   "execution_count": 124,
   "metadata": {
    "collapsed": false,
    "jupyter": {
     "outputs_hidden": false
    }
   },
   "outputs": [
    {
     "name": "stdout",
     "output_type": "stream",
     "text": [
      "[[3 1 2 0 0]\n",
      " [3 1 2 3 0]\n",
      " [2 4 4 0 3]\n",
      " [2 0 0 0 0]\n",
      " [1 4 4 2 2]]\n",
      "[[0.26620695 0.08873565 0.1774713  0.         0.        ]\n",
      " [0.26620695 0.08873565 0.1774713  0.26620695 0.        ]\n",
      " [0.1774713  0.3549426  0.3549426  0.         0.26620695]\n",
      " [0.1774713  0.         0.         0.         0.        ]\n",
      " [0.08873565 0.3549426  0.3549426  0.1774713  0.1774713 ]]\n"
     ]
    }
   ],
   "source": [
    "b = np.random.randint(0,5,(5,5))\n",
    "print(b)\n",
    "norm = np.linalg.norm(b)\n",
    "det = np.linalg.det(b)\n",
    "print(b/norm)"
   ]
  },
  {
   "cell_type": "markdown",
   "metadata": {},
   "source": [
    "#### 25. Given a 1D array, negate all elements which are between 3 and 8, in place. (★☆☆)"
   ]
  },
  {
   "cell_type": "code",
   "execution_count": 164,
   "metadata": {
    "collapsed": false,
    "jupyter": {
     "outputs_hidden": false
    }
   },
   "outputs": [
    {
     "name": "stdout",
     "output_type": "stream",
     "text": [
      "[[3 4 4 0 8 5 0 9 4]]\n",
      "[[ 3 -4 -4  0  8 -5  0  9 -4]]\n"
     ]
    }
   ],
   "source": [
    "a = np.random.randint(0,11,(1,9))\n",
    "print(a)\n",
    "\n",
    "with np.nditer(a, op_flags=['readwrite']) as it:\n",
    "    for i in it:\n",
    "        if 3<i<8:\n",
    "            i[...] = i*(-1)\n",
    "\n",
    "print(a)"
   ]
  },
  {
   "cell_type": "markdown",
   "metadata": {},
   "source": [
    "#### 29. How to round away from zero a float array ? (★☆☆)"
   ]
  },
  {
   "cell_type": "code",
   "execution_count": 168,
   "metadata": {
    "collapsed": false,
    "jupyter": {
     "outputs_hidden": false
    }
   },
   "outputs": [
    {
     "name": "stdout",
     "output_type": "stream",
     "text": [
      "[[0.17245985 2.68384322 6.44486996]\n",
      " [6.49696302 5.64775865 2.36875124]\n",
      " [6.96286319 7.26074911 0.64883828]]\n"
     ]
    },
    {
     "data": {
      "text/plain": [
       "array([[1., 3., 7.],\n",
       "       [7., 6., 3.],\n",
       "       [7., 8., 1.]])"
      ]
     },
     "execution_count": 168,
     "metadata": {},
     "output_type": "execute_result"
    }
   ],
   "source": [
    "d = np.random.rand(3,3) * 8\n",
    "print(d)\n",
    "np.ceil(d)"
   ]
  },
  {
   "cell_type": "markdown",
   "metadata": {},
   "source": [
    "#### 30. How to find common values between two arrays? (★☆☆)"
   ]
  },
  {
   "cell_type": "code",
   "execution_count": 170,
   "metadata": {
    "collapsed": false,
    "jupyter": {
     "outputs_hidden": false
    }
   },
   "outputs": [
    {
     "data": {
      "text/plain": [
       "array([1, 3, 4, 5, 8])"
      ]
     },
     "execution_count": 170,
     "metadata": {},
     "output_type": "execute_result"
    }
   ],
   "source": [
    "a = np.array([[1,2,3,4],[5,6,7,8]])\n",
    "b = np.array([[1,22,3,4],[5,56,73,8]])\n",
    "\n",
    "np.intersect1d(a,b)"
   ]
  },
  {
   "cell_type": "markdown",
   "metadata": {},
   "source": [
    "#### 32. Is the following expressions true? (★☆☆)"
   ]
  },
  {
   "cell_type": "markdown",
   "metadata": {},
   "source": [
    "```python\n",
    "np.sqrt(-1) == np.emath.sqrt(-1)\n",
    "```"
   ]
  },
  {
   "cell_type": "code",
   "execution_count": null,
   "metadata": {
    "collapsed": false,
    "jupyter": {
     "outputs_hidden": false
    }
   },
   "outputs": [],
   "source": [
    "False"
   ]
  },
  {
   "cell_type": "markdown",
   "metadata": {},
   "source": [
    "#### 38. Consider a generator function that generates 10 integers and use it to build an array (★☆☆)"
   ]
  },
  {
   "cell_type": "code",
   "execution_count": 178,
   "metadata": {
    "collapsed": false,
    "jupyter": {
     "outputs_hidden": false
    }
   },
   "outputs": [
    {
     "name": "stdout",
     "output_type": "stream",
     "text": [
      "[0 1 2 3 4 5 6 7 8 9]\n"
     ]
    }
   ],
   "source": [
    "def gen_func():    \n",
    "    for i in range(10):\n",
    "        yield i\n",
    "    \n",
    "d = np.fromiter(gen_func(), int)\n",
    "\n",
    "print(d)   \n"
   ]
  },
  {
   "cell_type": "markdown",
   "metadata": {},
   "source": [
    "#### 39. Create a vector of size 10 with values ranging from 0 to 1, both excluded (★★☆)"
   ]
  },
  {
   "cell_type": "code",
   "execution_count": 181,
   "metadata": {
    "collapsed": false,
    "jupyter": {
     "outputs_hidden": false
    }
   },
   "outputs": [
    {
     "name": "stdout",
     "output_type": "stream",
     "text": [
      "[ 2.  3.  4.  5.  6.  7.  8.  9. 10. 11.]\n"
     ]
    }
   ],
   "source": [
    "d = np.linspace( 2, 11, 10)\n",
    "print(d)"
   ]
  },
  {
   "cell_type": "markdown",
   "metadata": {},
   "source": [
    "#### 40. Create a random vector of size 10 and sort it (★★☆)"
   ]
  },
  {
   "cell_type": "code",
   "execution_count": 188,
   "metadata": {
    "collapsed": false,
    "jupyter": {
     "outputs_hidden": false
    }
   },
   "outputs": [
    {
     "name": "stdout",
     "output_type": "stream",
     "text": [
      "[[ 0  8  6  5  5 10  8  9  5  0]]\n",
      "[[ 0  0  5  5  5  6  8  8  9 10]]\n"
     ]
    }
   ],
   "source": [
    "a = np.random.randint(0,11,(1,10))\n",
    "print(a)\n",
    "\n",
    "#np.sort(a)\n",
    "a.sort()\n",
    "print(a)"
   ]
  },
  {
   "cell_type": "markdown",
   "metadata": {},
   "source": [
    "#### 42. Consider two random array A and B, check if they are equal (★★☆)"
   ]
  },
  {
   "cell_type": "code",
   "execution_count": 196,
   "metadata": {
    "collapsed": false,
    "jupyter": {
     "outputs_hidden": false
    }
   },
   "outputs": [
    {
     "name": "stdout",
     "output_type": "stream",
     "text": [
      "False\n"
     ]
    },
    {
     "data": {
      "text/plain": [
       "True"
      ]
     },
     "execution_count": 196,
     "metadata": {},
     "output_type": "execute_result"
    }
   ],
   "source": [
    "print(np.array_equal(a,b))\n",
    "np.allclose(a,d, 10)"
   ]
  },
  {
   "cell_type": "markdown",
   "metadata": {},
   "source": [
    "#### 45. Create random vector of size 10 and replace the maximum value by 0 (★★☆)"
   ]
  },
  {
   "cell_type": "code",
   "execution_count": 231,
   "metadata": {
    "collapsed": false,
    "jupyter": {
     "outputs_hidden": false
    }
   },
   "outputs": [
    {
     "name": "stdout",
     "output_type": "stream",
     "text": [
      "[0.01181939 0.17575361 0.83781867 0.9082183  0.56402315 0.55268008\n",
      " 0.09529371 0.56141872 0.4040501  0.70626942]\n",
      "3\n"
     ]
    },
    {
     "data": {
      "text/plain": [
       "array([0.01181939, 0.17575361, 0.83781867, 0.        , 0.56402315,\n",
       "       0.55268008, 0.09529371, 0.56141872, 0.4040501 , 0.70626942])"
      ]
     },
     "execution_count": 231,
     "metadata": {},
     "output_type": "execute_result"
    }
   ],
   "source": [
    "a = np.random.random(10)\n",
    "print(a)\n",
    "print(np.argmax(a))\n",
    "a[np.argmax(a)]=0\n",
    "a"
   ]
  },
  {
   "cell_type": "markdown",
   "metadata": {},
   "source": [
    "#### 50. How to find the closest value (to a given scalar) in a vector? (★★☆)"
   ]
  },
  {
   "cell_type": "code",
   "execution_count": 282,
   "metadata": {
    "collapsed": false,
    "jupyter": {
     "outputs_hidden": false
    }
   },
   "outputs": [
    {
     "name": "stdout",
     "output_type": "stream",
     "text": [
      "[[39 77 97  4 75 92 43  4 40 15 55 74 81 61 33 11 69 15 75 75 38 41  9 74\n",
      "   4 46 31 98 41 58 44 58 99 99  1 11 28  9 13 72 29 66 22 69 37 90 18 87\n",
      "  14 52]]\n",
      "6 43\n"
     ]
    }
   ],
   "source": [
    "a = np.random.randint(0,100, size = (1,50))\n",
    "print(a)\n",
    "scalar = 42\n",
    "i = np.argmin(np.absolute(a-scalar))\n",
    "print(i, a[0,i])"
   ]
  },
  {
   "cell_type": "markdown",
   "metadata": {},
   "source": [
    "#### 53. How to convert a float (32 bits) array into an integer (32 bits) in place?"
   ]
  },
  {
   "cell_type": "code",
   "execution_count": 291,
   "metadata": {
    "collapsed": false,
    "jupyter": {
     "outputs_hidden": false
    }
   },
   "outputs": [
    {
     "name": "stdout",
     "output_type": "stream",
     "text": [
      "[1. 2. 3.]\n",
      "[1 2 3]\n"
     ]
    }
   ],
   "source": [
    "a = np.array([1,2,3],dtype = 'float32')\n",
    "print(a)\n",
    "a = a.astype('int32', copy = False)\n",
    "print(a)"
   ]
  },
  {
   "cell_type": "markdown",
   "metadata": {},
   "source": [
    "#### 59. How to sort an array by the nth column? (★★☆)"
   ]
  },
  {
   "cell_type": "code",
   "execution_count": 295,
   "metadata": {
    "collapsed": false,
    "jupyter": {
     "outputs_hidden": false
    }
   },
   "outputs": [
    {
     "name": "stdout",
     "output_type": "stream",
     "text": [
      "[[2 5 4]\n",
      " [3 0 0]\n",
      " [2 4 0]]\n",
      "[[[2 5 4]\n",
      "  [2 4 0]\n",
      "  [3 0 0]]]\n"
     ]
    }
   ],
   "source": [
    "b = np.random.randint(0,10,(3,3))\n",
    "print(b)\n",
    "\n",
    "print(b[np.argsort(b[:1])])"
   ]
  },
  {
   "cell_type": "markdown",
   "metadata": {},
   "source": [
    "#### 60. How to tell if a given 2D array has null columns? (★★☆)"
   ]
  },
  {
   "cell_type": "code",
   "execution_count": 342,
   "metadata": {
    "collapsed": false,
    "jupyter": {
     "outputs_hidden": false
    }
   },
   "outputs": [
    {
     "name": "stdout",
     "output_type": "stream",
     "text": [
      "[[1 2 0 0 0 1 0 0]\n",
      " [2 1 1 1 1 1 0 2]\n",
      " [1 2 0 0 0 2 0 2]]\n",
      "[False False False False False False  True False]\n",
      "True\n"
     ]
    }
   ],
   "source": [
    "b = np.random.randint(0,3,(3,8))\n",
    "print(b)\n",
    "# create an array showing which columns are null\n",
    "c = (~b.any(axis = 0))\n",
    "print(c)\n",
    "# return True if any column is null\n",
    "d = (~b.any(axis = 0).all())\n",
    "print(d)"
   ]
  },
  {
   "cell_type": "markdown",
   "metadata": {},
   "source": [
    "#### 70. Consider the vector \\[1, 2, 3, 4, 5\\], how to build a new vector with 3 consecutive zeros interleaved between each value? (★★★)"
   ]
  },
  {
   "cell_type": "code",
   "execution_count": 380,
   "metadata": {
    "collapsed": false,
    "jupyter": {
     "outputs_hidden": false
    }
   },
   "outputs": [
    {
     "name": "stdout",
     "output_type": "stream",
     "text": [
      "[1. 0. 0. 0. 2. 0. 0. 0. 3. 0. 0. 0. 4. 0. 0. 0. 5.]\n"
     ]
    }
   ],
   "source": [
    "a = np.array([1,2,3,4,5])\n",
    "w = (len(a)-1)\n",
    "zeros = 3\n",
    "b = np.zeros((1,(w)*zeros))\n",
    "for i in a:\n",
    "    i-=1\n",
    "    b = np.insert(b,(w*i),a[i])\n",
    "print(b)"
   ]
  },
  {
   "cell_type": "markdown",
   "metadata": {},
   "source": [
    "#### 72. How to swap two rows of an array? (★★★)"
   ]
  },
  {
   "cell_type": "code",
   "execution_count": 436,
   "metadata": {
    "collapsed": false,
    "jupyter": {
     "outputs_hidden": false
    }
   },
   "outputs": [
    {
     "name": "stdout",
     "output_type": "stream",
     "text": [
      "[[0 0 0 1 0 0 1 0]\n",
      " [1 2 2 1 0 1 1 2]\n",
      " [0 2 2 1 1 1 1 2]]\n",
      "[[1 2 2 1 0 1 1 2]\n",
      " [0 0 0 1 0 0 1 0]\n",
      " [0 2 2 1 1 1 1 2]]\n"
     ]
    }
   ],
   "source": [
    "b = np.random.randint(0,3,(3,8))\n",
    "print(b)\n",
    "\n",
    "b[[0,1]] = b[[1,0]]\n",
    "print(b)"
   ]
  },
  {
   "cell_type": "markdown",
   "metadata": {},
   "source": [
    "#### 77. How to negate a boolean, or to change the sign of a float inplace? (★★★)"
   ]
  },
  {
   "cell_type": "code",
   "execution_count": 433,
   "metadata": {
    "collapsed": false,
    "jupyter": {
     "outputs_hidden": false
    }
   },
   "outputs": [
    {
     "name": "stdout",
     "output_type": "stream",
     "text": [
      "[[1 1 1 1 2 0 1 1]\n",
      " [0 0 2 0 0 1 2 1]\n",
      " [1 0 1 0 2 1 0 2]]\n"
     ]
    },
    {
     "data": {
      "text/plain": [
       "array([[-1, -1, -1, -1, -2,  0, -1, -1],\n",
       "       [ 0,  0, -2,  0,  0, -1, -2, -1],\n",
       "       [-1,  0, -1,  0, -2, -1,  0, -2]])"
      ]
     },
     "execution_count": 433,
     "metadata": {},
     "output_type": "execute_result"
    }
   ],
   "source": [
    "b = np.random.randint(0,3,(3,8))\n",
    "print(b)\n",
    "\n",
    "np.logical_not(b)\n",
    "np.negative(b)"
   ]
  },
  {
   "cell_type": "markdown",
   "metadata": {},
   "source": [
    "#### 83. How to find the most frequent value in an array?"
   ]
  },
  {
   "cell_type": "code",
   "execution_count": 458,
   "metadata": {
    "collapsed": false,
    "jupyter": {
     "outputs_hidden": false
    }
   },
   "outputs": [
    {
     "name": "stdout",
     "output_type": "stream",
     "text": [
      "[8 6 8 3 2 7 7 4 4 6 4 9 8 5 3 7 6 7 3 4 2 8 9 1 7 1 3 1 4 3 9 1 8 2 5 5 4\n",
      " 6 7 3 7 3 5 5 8 4 0 3 6 8] \n",
      "\n",
      "[0 1 2 3 4 5 6 7 8 9]\n",
      "[1 4 3 8 7 5 5 7 7 3] \n",
      "\n",
      "3\n"
     ]
    }
   ],
   "source": [
    "b = np.random.randint(0,10,50)\n",
    "print(b,\"\\n\")\n",
    "\n",
    "print(np.arange(0,10))\n",
    "print(np.bincount(b),'\\n')\n",
    "\n",
    "print(np.bincount(b).argmax())\n"
   ]
  },
  {
   "cell_type": "markdown",
   "metadata": {},
   "source": [
    "#### 89. How to get the n largest values of an array (★★★)"
   ]
  },
  {
   "cell_type": "code",
   "execution_count": 476,
   "metadata": {
    "collapsed": false,
    "jupyter": {
     "outputs_hidden": false
    }
   },
   "outputs": [
    {
     "name": "stdout",
     "output_type": "stream",
     "text": [
      "[6 0 3 9 9 9 9 6 8 8 0 1 1 9 1 3 8 2 4 2 0 8 5 7 7 4 1 4 7 6 0 0 8 2 0 8 4\n",
      " 3 8 0 2 8 8 4 3 0 4 7 5 4] \n",
      "\n",
      "9 3\n",
      "[9 9 9 9 9]\n"
     ]
    }
   ],
   "source": [
    "n = 5\n",
    "b = np.random.randint(0,10,50)\n",
    "print(b,\"\\n\")\n",
    "\n",
    "w = np.argmax(b)\n",
    "print(b[w], w)\n",
    "\n",
    "print (b[np.argsort(b)[-n:]])"
   ]
  },
  {
   "cell_type": "markdown",
   "metadata": {},
   "source": [
    "#### 96. Given a two dimensional array, how to extract unique rows? (★★★)"
   ]
  },
  {
   "cell_type": "code",
   "execution_count": null,
   "metadata": {},
   "outputs": [],
   "source": []
  },
  {
   "cell_type": "code",
   "execution_count": null,
   "metadata": {},
   "outputs": [],
   "source": []
  },
  {
   "cell_type": "code",
   "execution_count": 485,
   "metadata": {
    "collapsed": false,
    "jupyter": {
     "outputs_hidden": false
    }
   },
   "outputs": [
    {
     "name": "stdout",
     "output_type": "stream",
     "text": [
      "[[1 1]\n",
      " [1 1]\n",
      " [1 1]\n",
      " [0 0]\n",
      " [1 1]\n",
      " [0 1]\n",
      " [1 1]\n",
      " [1 1]]\n",
      "[[0 0]\n",
      " [0 1]\n",
      " [1 1]] [1 1 6]\n",
      "[[0 0]\n",
      " [0 1]]\n"
     ]
    }
   ],
   "source": [
    "b = np.random.randint(0,2,(8,2))\n",
    "print(b)\n",
    "\n",
    "a,c = np.unique(b, axis = 0, return_counts = True)\n",
    "print(a,c)\n",
    "print(a[c==1])"
   ]
  }
 ],
 "metadata": {
  "kernelspec": {
   "display_name": "Python 3",
   "language": "python",
   "name": "python3"
  },
  "language_info": {
   "codemirror_mode": {
    "name": "ipython",
    "version": 3
   },
   "file_extension": ".py",
   "mimetype": "text/x-python",
   "name": "python",
   "nbconvert_exporter": "python",
   "pygments_lexer": "ipython3",
   "version": "3.8.3"
  }
 },
 "nbformat": 4,
 "nbformat_minor": 4
}
