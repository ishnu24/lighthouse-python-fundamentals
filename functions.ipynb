{
 "cells": [
  {
   "cell_type": "code",
   "execution_count": 16,
   "metadata": {},
   "outputs": [
    {
     "name": "stdout",
     "output_type": "stream",
     "text": [
      "('Math', 'Art')\n",
      "{'name': 'john', 'age': 22}\n"
     ]
    }
   ],
   "source": [
    "\n",
    "def hello_func(greeting, name = 'You'):\n",
    "    return '{}, {}'.format(greeting, name)\n",
    "    # DRY = Don't Repeat Yourself\n",
    "    \n",
    "# print(hello_func('Hi', 'Ishnu'))\n",
    "\n"
   ]
  },
  {
   "cell_type": "code",
   "execution_count": 19,
   "metadata": {},
   "outputs": [
    {
     "name": "stdout",
     "output_type": "stream",
     "text": [
      "('Math', 'Art')\n",
      "{'name': 'John', 'age': 22}\n"
     ]
    }
   ],
   "source": [
    "def student_info(*args, **kwargs):\n",
    "    print(args)\n",
    "    print(kwargs)\n",
    "    \n",
    "courses = ['Math', 'Art']\n",
    "info = {'name': 'John', 'age': 22}\n",
    "    \n",
    "#student_info('Math', 'Art', name = \"john\", age=22)\n",
    "\n",
    "student_info(*courses, **info)"
   ]
  },
  {
   "cell_type": "code",
   "execution_count": 20,
   "metadata": {},
   "outputs": [],
   "source": [
    "# number of days per month. First value placeholder for indexing purposes\n",
    "\n",
    "month_days = [0, 31, 28, 31, 30, 31, 30, 31, 31, 30, 31, 30, 31]\n",
    "\n",
    "def is_leap(year):\n",
    "    \"\"\"Return true for leap years, False for non-leap years\"\"\"\n",
    "    \n",
    "    return year % 4 == 0 and (year % 100 != 0 or year % 400 == 0)\n",
    "\n",
    "def days_in_month(year, month):\n",
    "    \"\"\"Return number of days in that month in that year\"\"\"\n",
    "    \n",
    "    if not 1 <= month <= 12:\n",
    "        return 'Invalid Month'\n",
    "    \n",
    "    if month == 2 and is_leap(year):\n",
    "        return 29\n",
    "    \n",
    "    return month_days[month]"
   ]
  },
  {
   "cell_type": "code",
   "execution_count": 23,
   "metadata": {},
   "outputs": [
    {
     "name": "stdout",
     "output_type": "stream",
     "text": [
      "True\n",
      "28\n",
      "29\n"
     ]
    }
   ],
   "source": [
    "print(is_leap(2020))\n",
    "\n",
    "print(days_in_month(2017,2))\n",
    "print(days_in_month(2020,2))"
   ]
  }
 ],
 "metadata": {
  "kernelspec": {
   "display_name": "Python 3",
   "language": "python",
   "name": "python3"
  },
  "language_info": {
   "codemirror_mode": {
    "name": "ipython",
    "version": 3
   },
   "file_extension": ".py",
   "mimetype": "text/x-python",
   "name": "python",
   "nbconvert_exporter": "python",
   "pygments_lexer": "ipython3",
   "version": "3.8.3"
  }
 },
 "nbformat": 4,
 "nbformat_minor": 4
}
